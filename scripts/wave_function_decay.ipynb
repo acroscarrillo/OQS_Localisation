{
 "cells": [
  {
   "cell_type": "code",
   "execution_count": 1,
   "metadata": {},
   "outputs": [],
   "source": [
    "import sys\n",
    "import os\n",
    "sys.path.insert(0, os.path.abspath(os.path.join('..')))\n",
    "from src import *\n",
    "from itertools import product\n",
    "\n",
    "import numpy as np\n",
    "from matplotlib import pyplot as plt\n",
    "from numba import njit\n",
    "import scipy.stats as stats"
   ]
  },
  {
   "cell_type": "code",
   "execution_count": 2,
   "metadata": {},
   "outputs": [],
   "source": [
    "#@njit\n",
    "def centered_probabilities(states):\n",
    "    half_L = states.shape[1] // 2\n",
    "    out = np.full_like(states, 0.0, dtype = np.float64)\n",
    "    for i, state in enumerate(states):\n",
    "        probs = np.abs(state, dtype = np.float64)\n",
    "        centre = np.argmax(probs)\n",
    "        out[i, :] = np.roll(probs, half_L-centre)\n",
    "    return out"
   ]
  },
  {
   "cell_type": "code",
   "execution_count": 3,
   "metadata": {},
   "outputs": [],
   "source": [
    "def produce_data(p, L, realizations):\n",
    "    data = np.zeros(L)\n",
    "    for _ in range(realizations):\n",
    "        ness_correlation = C_NESS(0, 0, A(L, p))\n",
    "        _, eigenvectors = np.linalg.eig(ness_correlation)\n",
    "        centered_probs = centered_probabilities(eigenvectors.T)\n",
    "        data += np.mean(centered_probs, axis = 0)\n",
    "    return data / realizations"
   ]
  },
  {
   "cell_type": "code",
   "execution_count": 4,
   "metadata": {},
   "outputs": [],
   "source": [
    "def fit_log_log(x, y, subset):\n",
    "    sort_permutation = np.argsort(x)\n",
    "    x_data = np.log(x[sort_permutation][subset])\n",
    "    y_data = np.log(y[sort_permutation][subset])\n",
    "    res = stats.linregress(x_data, y_data)\n",
    "    return res[0], res[1]"
   ]
  },
  {
   "cell_type": "code",
   "execution_count": 13,
   "metadata": {},
   "outputs": [],
   "source": [
    "L = 1000\n",
    "ps = [0.5, 0.7, 0.9, 1.0, 1.2, 1.4, 1.7, 2.0, 3.0, 5.0]\n",
    "realizations = 100"
   ]
  },
  {
   "cell_type": "code",
   "execution_count": 14,
   "metadata": {},
   "outputs": [],
   "source": [
    "data = list(map(lambda p: produce_data(p, L, realizations), ps))"
   ]
  },
  {
   "cell_type": "code",
   "execution_count": 16,
   "metadata": {},
   "outputs": [],
   "source": [
    "%matplotlib qt\n",
    "\n",
    "fig, ax = plt.subplots(nrows=1, ncols=2)\n",
    "grads = np.zeros(len(data))\n",
    "for i, y in enumerate(data):\n",
    "    x = np.abs(np.arange(L) - L/2)\n",
    "    g, c = fit_log_log(x, y, np.arange(20, 800))\n",
    "    grads[i] = -g\n",
    "    ax[0].plot(x, y, linewidth=2.5, label=r\"$p = {}, a = {}, c = {}$\".format(\n",
    "        ps[i], round(-g, 3), round(math.exp(c)), 3))\n",
    "    ax[0].plot(np.arange(10, 400), math.exp(c)*(np.arange(10, 400)**g))\n",
    "ax[0].set_xlabel(r\"$|i-i_\\mathrm{max}|$\")\n",
    "ax[0].set_ylabel(r\"$\\left\\langle|\\psi(i-i_\\mathrm{max})|^2\\right\\rangle$\")\n",
    "ax[0].set_yscale('log')\n",
    "ax[0].set_xscale('log')\n",
    "ax[0].set_title(r'$L = 1000, \\mathrm{realizations} = 100, y(x) \\approx cx^a$')\n",
    "ax[0].legend()\n",
    "\n",
    "ax[1].plot(ps, grads, label=r\"$y(p)=a(p)$\")\n",
    "ax[1].plot(ps, ps, label=r\"$y(p)=p$\")\n",
    "ax[1].legend()\n",
    "\n",
    "plt.show()\n"
   ]
  },
  {
   "cell_type": "code",
   "execution_count": null,
   "metadata": {},
   "outputs": [],
   "source": []
  }
 ],
 "metadata": {
  "kernelspec": {
   "display_name": "Python 3.10.8 ('numba')",
   "language": "python",
   "name": "python3"
  },
  "language_info": {
   "codemirror_mode": {
    "name": "ipython",
    "version": 3
   },
   "file_extension": ".py",
   "mimetype": "text/x-python",
   "name": "python",
   "nbconvert_exporter": "python",
   "pygments_lexer": "ipython3",
   "version": "3.10.8"
  },
  "orig_nbformat": 4,
  "vscode": {
   "interpreter": {
    "hash": "c3ea23f975fe4e610a4ed32fc8f3f3cbfe2f222a882b375ad37ce039218ed78d"
   }
  }
 },
 "nbformat": 4,
 "nbformat_minor": 2
}
