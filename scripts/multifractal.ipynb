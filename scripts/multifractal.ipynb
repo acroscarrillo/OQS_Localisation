{
 "cells": [
  {
   "cell_type": "code",
   "execution_count": 1,
   "metadata": {},
   "outputs": [],
   "source": [
    "import sys\n",
    "import os\n",
    "sys.path.insert(0, os.path.abspath(os.path.join('..')))\n",
    "from src import *\n",
    "from itertools import product\n",
    "\n",
    "import numpy as np\n",
    "from matplotlib import pyplot as plt"
   ]
  },
  {
   "cell_type": "code",
   "execution_count": 38,
   "metadata": {},
   "outputs": [
    {
     "name": "stdout",
     "output_type": "stream",
     "text": [
      "[[[1.25459637 1.12132315 0.84040913 0.79193983 0.75665046]\n",
      "  [1.14382455 1.07167639 0.88317561 0.84556226 0.81852764]\n",
      "  [1.09681505 1.0499366  0.91458418 0.8843772  0.8582768 ]\n",
      "  [1.07141133 1.03664387 0.93377161 0.90953676 0.88902669]\n",
      "  [1.05664527 1.02951744 0.9476819  0.92724745 0.90996779]\n",
      "  [1.04553108 1.02373484 0.9574448  0.94103244 0.92726764]]\n",
      "\n",
      " [[1.27606036 1.13073096 0.82456263 0.78012609 0.7458802 ]\n",
      "  [1.1641801  1.08128469 0.8662248  0.827564   0.79854972]\n",
      "  [1.11726503 1.06131878 0.89911819 0.86175693 0.83539832]\n",
      "  [1.09404846 1.04896648 0.91510866 0.88549754 0.86267534]\n",
      "  [1.07797164 1.04111924 0.92771091 0.90289591 0.88306595]\n",
      "  [1.06775766 1.03556274 0.93828764 0.9157826  0.89766993]]\n",
      "\n",
      " [[1.29279715 1.14233433 0.80445665 0.75691587 0.72711639]\n",
      "  [1.188394   1.09629001 0.84949156 0.80429784 0.76949555]\n",
      "  [1.14519864 1.07700726 0.87498955 0.83661988 0.80924478]\n",
      "  [1.12287526 1.06507034 0.8910314  0.85501643 0.8312869 ]\n",
      "  [1.11084395 1.05902324 0.90110922 0.87011469 0.84562411]\n",
      "  [1.10172686 1.05446333 0.90961958 0.88060361 0.85776996]]\n",
      "\n",
      " [[1.31197193 1.15917067 0.79301665 0.73891195 0.70553816]\n",
      "  [1.22073002 1.11427189 0.82619343 0.77455759 0.74756181]\n",
      "  [1.18163465 1.09527884 0.85016032 0.80141812 0.77418582]\n",
      "  [1.16465134 1.0878947  0.86044936 0.81926927 0.79097215]\n",
      "  [1.15542978 1.08394086 0.86684222 0.82821713 0.79848972]\n",
      "  [1.15100206 1.08185752 0.87081326 0.83250477 0.80525717]]\n",
      "\n",
      " [[1.34828741 1.17500738 0.77529482 0.71610377 0.6757495 ]\n",
      "  [1.25983224 1.13601891 0.80126624 0.75313723 0.71134501]\n",
      "  [1.2262678  1.12330622 0.81766631 0.76810766 0.73511799]\n",
      "  [1.21584119 1.11884733 0.8209686  0.77542759 0.74368295]\n",
      "  [1.21826599 1.12099528 0.82156913 0.77604338 0.7442918 ]\n",
      "  [1.2256269  1.12459914 0.81689732 0.76994979 0.74005011]]\n",
      "\n",
      " [[1.37555633 1.19612553 0.74659803 0.6949998  0.66343617]\n",
      "  [1.29418351 1.1617314  0.77414026 0.72160029 0.68178287]\n",
      "  [1.28239    1.15565627 0.77823915 0.72533309 0.6914502 ]\n",
      "  [1.28862377 1.1593533  0.77461279 0.72322471 0.68784685]\n",
      "  [1.30426244 1.17477702 0.76248864 0.71152295 0.67983833]\n",
      "  [1.33104337 1.1881871  0.7482847  0.69554284 0.66405013]]\n",
      "\n",
      " [[1.40622869 1.22096578 0.71976626 0.66034544 0.62660207]\n",
      "  [1.35239837 1.19828758 0.73859806 0.68014443 0.64783361]\n",
      "  [1.35411575 1.19707083 0.73150974 0.67962973 0.6458607 ]\n",
      "  [1.37571038 1.21525175 0.72107529 0.66687427 0.63554811]\n",
      "  [1.41438444 1.24237152 0.69498474 0.64093113 0.60932445]\n",
      "  [1.46649724 1.27248801 0.66642861 0.61155361 0.57926643]]]\n"
     ]
    }
   ],
   "source": [
    "moments = np.array([-2, -1, 2, 3, 4])\n",
    "ps = np.array([0.85, 0.9, 0.95, 1.0, 1.05, 1.1, 1.15])\n",
    "system_sizes = np.array([100, 200, 400, 800, 1600, 3200])#, 6400]\n",
    "realizations = 10\n",
    "\n",
    "# push to larger sizes\n",
    "\n",
    "def produce_data(ps, system_sizes, moments, realizations, bins = 50):\n",
    "    widths = [L // bins for L in system_sizes]\n",
    "    fractal_dimension = np.zeros((len(ps), len(system_sizes), len(moments)))\n",
    "    params = product(enumerate(ps), enumerate(system_sizes), enumerate(moments))\n",
    "    for (i, p), (j, L), (k, m) in params:\n",
    "        dimension_data_reduced = 0\n",
    "        for _ in range(realizations):\n",
    "            ness_correlation = C_NESS(0, 0, A(L, p))\n",
    "            _, eigenvectors = np.linalg.eig(ness_correlation)\n",
    "            moment_data = calculate_moments(eigenvectors.T, widths[j], m)\n",
    "            dimension_data = generalized_fractal_dimension(moment_data, widths[j], m, L)\n",
    "            dimension_data_reduced += np.mean(list(dimension_data))\n",
    "        fractal_dimension[i,j,k] = dimension_data_reduced / realizations\n",
    "    return fractal_dimension\n",
    "\n",
    "data = produce_data(ps, system_sizes, moments, realizations)\n",
    "print(data)"
   ]
  },
  {
   "cell_type": "code",
   "execution_count": 53,
   "metadata": {},
   "outputs": [],
   "source": [
    "np.save(\"multifractal_data_tmp.npy\", data)"
   ]
  },
  {
   "cell_type": "code",
   "execution_count": 55,
   "metadata": {},
   "outputs": [],
   "source": [
    "%matplotlib qt\n",
    "\n",
    "plt.rcParams.update({'font.size': 16})\n",
    "fig, ax = plt.subplots(nrows=5, figsize=(10, 12), )\n",
    "for (k, q) in enumerate(moments):\n",
    "    for (i, p) in enumerate(ps):\n",
    "        ax[k].scatter(system_sizes, data[i, :, k], \n",
    "                    linewidth=2.0, label=\"p = {}\".format(p))\n",
    "        ax[k].plot(system_sizes, data[i, :, k], linewidth=0.5)\n",
    "    ax[k].set_xlabel(r\"$L$\", labelpad=-15)\n",
    "    ax[k].set_ylabel(r\"$D_q$\")\n",
    "    ax[k].set_xscale('log')\n",
    "    ax[k].set_title(r\"q={}\".format(q))\n",
    "ax[2].legend(bbox_to_anchor=(1.0, 1.35))\n",
    "plt.subplots_adjust(left = 0.1, right = 0.8, top = 0.97, bottom = 0.03, hspace = 0.5)\n",
    "plt.show()"
   ]
  },
  {
   "cell_type": "code",
   "execution_count": 56,
   "metadata": {},
   "outputs": [],
   "source": [
    "plt.savefig(\"rough_fractal_dimensions.png\")"
   ]
  },
  {
   "cell_type": "code",
   "execution_count": null,
   "metadata": {},
   "outputs": [],
   "source": []
  }
 ],
 "metadata": {
  "kernelspec": {
   "display_name": "Python 3.10.8 ('numba')",
   "language": "python",
   "name": "python3"
  },
  "language_info": {
   "codemirror_mode": {
    "name": "ipython",
    "version": 3
   },
   "file_extension": ".py",
   "mimetype": "text/x-python",
   "name": "python",
   "nbconvert_exporter": "python",
   "pygments_lexer": "ipython3",
   "version": "3.10.8"
  },
  "orig_nbformat": 4,
  "vscode": {
   "interpreter": {
    "hash": "c3ea23f975fe4e610a4ed32fc8f3f3cbfe2f222a882b375ad37ce039218ed78d"
   }
  }
 },
 "nbformat": 4,
 "nbformat_minor": 2
}
