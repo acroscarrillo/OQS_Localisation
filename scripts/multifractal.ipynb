{
 "cells": [
  {
   "cell_type": "code",
   "execution_count": 1,
   "metadata": {},
   "outputs": [],
   "source": [
    "import sys\n",
    "import os\n",
    "sys.path.insert(0, os.path.abspath(os.path.join('..')))\n",
    "from src import *\n",
    "from itertools import product\n",
    "\n",
    "import numpy as np\n",
    "from matplotlib import pyplot as plt"
   ]
  },
  {
   "cell_type": "code",
   "execution_count": 8,
   "metadata": {},
   "outputs": [
    {
     "name": "stdout",
     "output_type": "stream",
     "text": [
      "[[[0.8395927  0.79567652 0.75416245]\n",
      "  [0.88274603 0.84870486 0.81762471]\n",
      "  [0.91346692 0.88460816 0.85944691]\n",
      "  [0.93461669 0.91010415 0.88855879]\n",
      "  [0.94734762 0.92741054 0.91024218]\n",
      "  [0.9573553  0.94058713 0.92688804]]\n",
      "\n",
      " [[0.82638134 0.77334167 0.74308121]\n",
      "  [0.8674626  0.82889696 0.79636569]\n",
      "  [0.89669102 0.86002297 0.83538466]\n",
      "  [0.91633223 0.8854079  0.86181905]\n",
      "  [0.92736759 0.90374237 0.88291327]\n",
      "  [0.9378685  0.91596231 0.89798054]]\n",
      "\n",
      " [[0.80889149 0.75951327 0.72650145]\n",
      "  [0.84286308 0.80723118 0.77364106]\n",
      "  [0.87502933 0.83376535 0.80521986]\n",
      "  [0.89149946 0.85524644 0.82835754]\n",
      "  [0.9017824  0.87031812 0.84588522]\n",
      "  [0.91027379 0.88059589 0.85754855]]\n",
      "\n",
      " [[0.78523506 0.74290575 0.69766754]\n",
      "  [0.8267546  0.78165486 0.74586072]\n",
      "  [0.84663383 0.80170198 0.77521286]\n",
      "  [0.86046464 0.81997565 0.78948637]\n",
      "  [0.86720768 0.82719413 0.79972081]\n",
      "  [0.86991183 0.8322251  0.80407319]]\n",
      "\n",
      " [[0.76479855 0.71799487 0.68008572]\n",
      "  [0.79964275 0.74867863 0.7171462 ]\n",
      "  [0.816251   0.76972388 0.73607523]\n",
      "  [0.82324559 0.77448601 0.74362594]\n",
      "  [0.82166137 0.77378882 0.74243407]\n",
      "  [0.81683656 0.77118989 0.73918779]]\n",
      "\n",
      " [[0.74572632 0.69324856 0.65840302]\n",
      "  [0.77159944 0.71081099 0.68959647]\n",
      "  [0.7761151  0.72842173 0.69381953]\n",
      "  [0.77465794 0.72394217 0.69091245]\n",
      "  [0.76340391 0.71440518 0.67953243]\n",
      "  [0.74721263 0.69667507 0.66263011]]\n",
      "\n",
      " [[0.72793271 0.65789817 0.62463902]\n",
      "  [0.73758388 0.68368417 0.64248004]\n",
      "  [0.73329675 0.67708227 0.641257  ]\n",
      "  [0.71971063 0.66410803 0.63015361]\n",
      "  [0.696839   0.64151357 0.60790554]\n",
      "  [0.66438286 0.61079576 0.58035861]]]\n"
     ]
    }
   ],
   "source": [
    "moments = np.array([2, 3, 4])\n",
    "ps = np.array([0.85, 0.9, 0.95, 1.0, 1.05, 1.1, 1.15])\n",
    "system_sizes = np.array([100, 200, 400, 800, 1600, 3200])#, 6400]\n",
    "realizations = 10\n",
    "\n",
    "# rework this to perform disorder average of log instead of log of disorder average\n",
    "\n",
    "def produce_data(ps, system_sizes, moments, realizations, bins = 50):\n",
    "    widths = [L // bins for L in system_sizes]\n",
    "    fractal_dimension = np.zeros((len(ps), len(system_sizes), len(moments)))\n",
    "    params = product(enumerate(ps), enumerate(system_sizes), enumerate(moments))\n",
    "    for (i, p), (j, L), (k, m) in params:\n",
    "        dimension_data_reduced = 0\n",
    "        for _ in range(realizations):\n",
    "            ness_correlation = C_NESS(0, 0, A(L, p))\n",
    "            _, eigenvectors = np.linalg.eig(ness_correlation)\n",
    "            moment_data = calculate_moments(eigenvectors.T, widths[j], m)\n",
    "            dimension_data = map(\n",
    "                lambda moment: generalized_fractal_dimension(moment, widths[j], m, L),\n",
    "                moment_data\n",
    "            )\n",
    "            dimension_data_reduced += np.mean(list(dimension_data))\n",
    "        fractal_dimension[i,j,k] = dimension_data_reduced / realizations\n",
    "    return fractal_dimension\n",
    "\n",
    "data = produce_data(ps, system_sizes, moments, realizations)\n",
    "print(data)"
   ]
  },
  {
   "cell_type": "code",
   "execution_count": 34,
   "metadata": {},
   "outputs": [],
   "source": [
    "%matplotlib qt\n",
    "\n",
    "plt.rcParams.update({'font.size': 16})\n",
    "fig, ax = plt.subplots(nrows=3, figsize=(10, 10), )\n",
    "for (k, q) in enumerate(moments):\n",
    "    for (i, p) in enumerate(ps):\n",
    "        ax[k].scatter(system_sizes, data[i, :, k], \n",
    "                    linewidth=2.0, label=\"p = {}\".format(p))\n",
    "        ax[k].plot(system_sizes, data[i, :, k], linewidth=0.5)\n",
    "    ax[k].set_xlabel(r\"$L$\", labelpad=-15)\n",
    "    ax[k].set_ylabel(r\"$D_q$\")\n",
    "    ax[k].set_xscale('log')\n",
    "    ax[k].set_title(r\"q={}\".format(q))\n",
    "    ax[k].legend(bbox_to_anchor=(1.0, 1.0))\n",
    "plt.subplots_adjust(left = 0.1, right = 0.8, top = 0.95, bottom = 0.05, hspace = 0.4)\n",
    "plt.show()"
   ]
  },
  {
   "cell_type": "code",
   "execution_count": null,
   "metadata": {},
   "outputs": [],
   "source": []
  }
 ],
 "metadata": {
  "kernelspec": {
   "display_name": "Python 3.10.8 ('numba')",
   "language": "python",
   "name": "python3"
  },
  "language_info": {
   "codemirror_mode": {
    "name": "ipython",
    "version": 3
   },
   "file_extension": ".py",
   "mimetype": "text/x-python",
   "name": "python",
   "nbconvert_exporter": "python",
   "pygments_lexer": "ipython3",
   "version": "3.10.8"
  },
  "orig_nbformat": 4,
  "vscode": {
   "interpreter": {
    "hash": "c3ea23f975fe4e610a4ed32fc8f3f3cbfe2f222a882b375ad37ce039218ed78d"
   }
  }
 },
 "nbformat": 4,
 "nbformat_minor": 2
}
