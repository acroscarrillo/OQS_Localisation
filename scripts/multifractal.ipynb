{
 "cells": [
  {
   "cell_type": "code",
   "execution_count": 9,
   "metadata": {},
   "outputs": [],
   "source": [
    "import sys\n",
    "import os\n",
    "sys.path.insert(0, os.path.abspath(os.path.join('..')))\n",
    "from src import *\n",
    "\n",
    "import numpy as np"
   ]
  },
  {
   "cell_type": "code",
   "execution_count": 32,
   "metadata": {},
   "outputs": [],
   "source": [
    "system_size = 100\n",
    "moment = 2\n",
    "p = 1.0\n",
    "\n",
    "fractal_dimensions = np.zeros(4)\n",
    "for i, system_size in enumerate([100, 500, 1000, 2000]):\n",
    "    ness_correlation = C_NESS(0, 0, A(system_size, p))\n",
    "    eigenvalues, eigenvectors = np.linalg.eig(ness_correlation)\n",
    "    width = system_size // 10\n",
    "    fractal_dimensions[i] = generalized_fractal_dimension(\n",
    "        np.mean(calculate_moments(eigenvectors, width, moment)), \n",
    "        width, moment, system_size\n",
    "    )\n",
    "\n",
    "print(fractal_dimensions)"
   ]
  },
  {
   "cell_type": "code",
   "execution_count": null,
   "metadata": {},
   "outputs": [],
   "source": []
  }
 ],
 "metadata": {
  "kernelspec": {
   "display_name": "Python 3.10.8 ('numba')",
   "language": "python",
   "name": "python3"
  },
  "language_info": {
   "codemirror_mode": {
    "name": "ipython",
    "version": 3
   },
   "file_extension": ".py",
   "mimetype": "text/x-python",
   "name": "python",
   "nbconvert_exporter": "python",
   "pygments_lexer": "ipython3",
   "version": "3.10.8"
  },
  "orig_nbformat": 4,
  "vscode": {
   "interpreter": {
    "hash": "c3ea23f975fe4e610a4ed32fc8f3f3cbfe2f222a882b375ad37ce039218ed78d"
   }
  }
 },
 "nbformat": 4,
 "nbformat_minor": 2
}
