{
 "cells": [
  {
   "cell_type": "code",
   "execution_count": 1,
   "metadata": {},
   "outputs": [],
   "source": [
    "import sys\n",
    "import os\n",
    "sys.path.insert(0, os.path.abspath(os.path.join('..')))\n",
    "from src import *\n",
    "from itertools import product\n",
    "\n",
    "import numpy as np\n",
    "from matplotlib import pyplot as plt"
   ]
  },
  {
   "cell_type": "code",
   "execution_count": 2,
   "metadata": {},
   "outputs": [],
   "source": [
    "moments = np.array([2, 3])\n",
    "ps = np.array([0.85, 0.9, 0.95, 1.0, 1.05, 1.1, 1.15, 1.5, 2.0])\n",
    "system_sizes = np.array([100, 200, 400, 800, 1600])#, 3200])#, 6400]\n",
    "realizations = 100\n",
    "\n",
    "\n",
    "def produce_data(ps, system_sizes, moments, realizations, bins = 50):\n",
    "    widths = [L // bins for L in system_sizes]\n",
    "    fractal_dimension = np.zeros((len(ps), len(system_sizes), len(moments)))\n",
    "    params = product(enumerate(ps), enumerate(system_sizes), enumerate(moments))\n",
    "    for (i, p), (j, L), (k, m) in params:\n",
    "        moment_data = 0\n",
    "        for _ in range(realizations):\n",
    "            ness_correlation = C_NESS(0, 0, A(L, p))\n",
    "            _, eigenvectors = np.linalg.eig(ness_correlation)\n",
    "            moment_data += np.mean(calculate_moments(eigenvectors.T, widths[j], m))\n",
    "        moment_data /= realizations\n",
    "        fractal_dimension[i,j,k] = generalized_fractal_dimension(\n",
    "            moment_data, widths[j], m, L)\n",
    "    return fractal_dimension\n",
    "\n",
    "data = produce_data(ps, system_sizes, moments, realizations)\n",
    "print(data)"
   ]
  },
  {
   "cell_type": "code",
   "execution_count": 1,
   "metadata": {},
   "outputs": [
    {
     "ename": "NameError",
     "evalue": "name 'plt' is not defined",
     "output_type": "error",
     "traceback": [
      "\u001b[1;31m---------------------------------------------------------------------------\u001b[0m",
      "\u001b[1;31mNameError\u001b[0m                                 Traceback (most recent call last)",
      "Cell \u001b[1;32mIn [1], line 1\u001b[0m\n\u001b[1;32m----> 1\u001b[0m fig, ax \u001b[39m=\u001b[39m plt\u001b[39m.\u001b[39msubplots()\n\u001b[0;32m      2\u001b[0m \u001b[39mfor\u001b[39;00m (i, p) \u001b[39min\u001b[39;00m \u001b[39menumerate\u001b[39m(ps):\n\u001b[0;32m      3\u001b[0m     ax\u001b[39m.\u001b[39mscatter(system_sizes, data[i, :, \u001b[39m0\u001b[39m], linewidth\u001b[39m=\u001b[39m\u001b[39m2.0\u001b[39m, label\u001b[39m=\u001b[39m\u001b[39m\"\u001b[39m\u001b[39mp = \u001b[39m\u001b[39m{}\u001b[39;00m\u001b[39m\"\u001b[39m\u001b[39m.\u001b[39mformat(p))\n",
      "\u001b[1;31mNameError\u001b[0m: name 'plt' is not defined"
     ]
    }
   ],
   "source": [
    "fig, ax = plt.subplots()\n",
    "for (i, p) in enumerate(ps):\n",
    "    ax.scatter(system_sizes, data[i, :, 0], linewidth=2.0, label=\"p = {}\".format(p))\n",
    "    ax.plot(system_sizes, data[i, :, 0], linewidth=0.5)\n",
    "ax.set_xlabel(r\"$L$\")\n",
    "ax.set_ylabel(r\"$D_q$\")\n",
    "ax.set_xscale('log')\n",
    "ax.legend()\n",
    "plt.show()"
   ]
  },
  {
   "cell_type": "code",
   "execution_count": null,
   "metadata": {},
   "outputs": [],
   "source": []
  }
 ],
 "metadata": {
  "kernelspec": {
   "display_name": "Python 3.10.8 ('numba')",
   "language": "python",
   "name": "python3"
  },
  "language_info": {
   "codemirror_mode": {
    "name": "ipython",
    "version": 3
   },
   "file_extension": ".py",
   "mimetype": "text/x-python",
   "name": "python",
   "nbconvert_exporter": "python",
   "pygments_lexer": "ipython3",
   "version": "3.10.8"
  },
  "orig_nbformat": 4,
  "vscode": {
   "interpreter": {
    "hash": "c3ea23f975fe4e610a4ed32fc8f3f3cbfe2f222a882b375ad37ce039218ed78d"
   }
  }
 },
 "nbformat": 4,
 "nbformat_minor": 2
}
