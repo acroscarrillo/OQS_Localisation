{
 "cells": [
  {
   "cell_type": "code",
   "execution_count": 1,
   "metadata": {},
   "outputs": [],
   "source": [
    "from numba import njit\n",
    "import scipy.stats as stats\n",
    "import sys\n",
    "import os\n",
    "sys.path.insert(0, os.path.abspath(os.path.join('..', '..')))\n",
    "from src import *\n",
    "from itertools import product\n",
    "\n",
    "import numpy as np\n",
    "from matplotlib import pyplot as plt\n",
    "from mpl_toolkits.axes_grid1.inset_locator import inset_axes\n"
   ]
  },
  {
   "cell_type": "code",
   "execution_count": 2,
   "metadata": {},
   "outputs": [],
   "source": [
    "L = 1000\n",
    "ps = np.array([0.5, 0.7, 0.9, 1.0, 1.2, 1.4, 1.7, 2.0, 3.0, 5.0])\n",
    "ps_mask = [True, True, True, True, True, True, True, True, True, False]\n",
    "realizations = 1000\n",
    "\n",
    "data = np.load(\"../../data/wave_function_day_data.npy\")"
   ]
  },
  {
   "cell_type": "code",
   "execution_count": 3,
   "metadata": {},
   "outputs": [],
   "source": [
    "def produce_centred_eigenvector(p, L):\n",
    "    ness_correlation = C_NESS(0, 0, A(L, p))\n",
    "    _, eigenvectors = np.linalg.eig(ness_correlation)\n",
    "    for i, arr in enumerate(eigenvectors):\n",
    "        central_index = np.argmax(arr)\n",
    "        if 2.4*L/5 <= central_index <= 2.6*L/5:\n",
    "            return np.abs(arr)**2\n",
    "\n",
    "low_p_eigenvector = [produce_centred_eigenvector(0.5, 1000) for i in range(5)]\n",
    "high_p_eigenvector = [produce_centred_eigenvector(1.1, 1000) for i in range(5)]\n"
   ]
  },
  {
   "cell_type": "code",
   "execution_count": 4,
   "metadata": {},
   "outputs": [],
   "source": [
    "fit_lower_bound = 10\n",
    "fit_upper_bound = int(2*L/5)\n",
    "x = np.abs(np.arange(L))\n",
    "grads = np.zeros(len(data))\n",
    "y_intercepts = np.zeros(len(data))\n",
    "for i, y in enumerate(data):\n",
    "    g, c = fit_log_log(x[x <= fit_upper_bound], y[x <= fit_upper_bound], np.arange(\n",
    "        fit_lower_bound, fit_upper_bound))\n",
    "    grads[i] = -g\n",
    "    y_intercepts[i] = c"
   ]
  },
  {
   "cell_type": "code",
   "execution_count": 9,
   "metadata": {},
   "outputs": [],
   "source": [
    "%matplotlib qt\n",
    "\n",
    "# Plotting parameters\n",
    "scaling = 1.0\n",
    "title_font_size = 10*scaling\n",
    "plt.rcParams['xtick.major.pad'] = '0'\n",
    "plt.rcParams['ytick.major.pad'] = '0'\n",
    "plt.rcParams.update({\n",
    "    \"font.family\": \"Times New Roman\",\n",
    "    \"font.size\": 10*scaling,\n",
    "    \"text.usetex\": True,\n",
    "})\n",
    "\n",
    "fit_lower_bound = 10\n",
    "fit_upper_bound = int(2*L/5)\n",
    "\n",
    "pt = 0.0138889\n",
    "fig, ax = plt.subplots(\n",
    "    nrows=3, ncols=1, figsize=(246*pt*scaling, 250*1.3*pt*scaling),\n",
    "    gridspec_kw={\n",
    "    'left': 0.175, 'right': 0.99, 'top': 0.985, 'bottom': 0.105, 'hspace': 0.2,\n",
    "    'height_ratios': (0.25, 0.25, 0.5)\n",
    "})\n",
    "\n",
    "for arr in low_p_eigenvector:\n",
    "    ax[0].plot(arr)\n",
    "ax[0].set_ylabel(r\"$|\\psi(i)|^2$\", labelpad = -2)\n",
    "ax[0].text(-0.2, 0.95, r\"$\\mathrm{(a)}$\", transform = ax[0].transAxes)\n",
    "ax[0].set_xlabel(r\"$i$\", labelpad=-8)\n",
    "#ax[0][0].set_yscale('log')\n",
    "#ax[0][0].set_xscale('log')\n",
    "\n",
    "for arr in high_p_eigenvector:\n",
    "    ax[1].plot(arr)\n",
    "ax[1].set_ylabel(r\"$|\\psi(i)|^2$\")\n",
    "ax[1].text(-0.2, 0.95, r\"$\\mathrm{(b)}$\", transform=ax[1].transAxes)\n",
    "ax[1].set_xlabel(r\"$i$\", labelpad=-8)\n",
    "#ax[0][1].set_yscale('log')\n",
    "#ax[0][1].set_xscale('log')\n",
    "\n",
    "x = np.abs(np.arange(L))\n",
    "for i in [0, 1, 2, 3, 4, 5, 6, 7]:\n",
    "    if i in range(len(ps)-2):\n",
    "        ax[2].plot(x[x <= fit_upper_bound], data[i][x <= fit_upper_bound], linewidth=2.5, label=r\"$p = {}, a = {}, c = {}$\".format(\n",
    "            ps[i], round(grads[i], 3), round(math.exp(y_intercepts[i])), 3))\n",
    "        linear_x_axis = np.arange(fit_lower_bound, fit_upper_bound)\n",
    "        ax[2].plot(linear_x_axis, math.exp(y_intercepts[i])*(linear_x_axis**(-grads[i])),\n",
    "                   color='k', lw=1, ls=\"--\")\n",
    "ax[2].set_xlabel(r\"$|i-i_\\mathrm{max}|$\")\n",
    "ax[2].set_ylabel(r\"$\\left\\langle|\\psi(i)|^2\\right\\rangle$\")\n",
    "ax[2].set_yscale('log')\n",
    "ax[2].set_xscale('log')\n",
    "ax[2].set_ylim(10**(-6), 10**(-2))\n",
    "ax[2].text(-0.2, 0.95, r\"$\\mathrm{(c)}$\", transform = ax[2].transAxes)\n",
    "\n",
    "inset_ax = inset_axes(ax[2], width=\"50%\", height=\"55%\", loc=3,\n",
    "                   bbox_to_anchor=(.07, .075, 0.95, 0.8), bbox_transform=ax[2].transAxes)\n",
    "inset_ax.set_xlabel(r\"$p$\", labelpad=-9*scaling)\n",
    "inset_ax.plot(ps[ps_mask], grads[ps_mask], label=r\"$y(p)=a(p)$\")\n",
    "inset_ax.plot(ps[ps_mask], ps[ps_mask], label=r\"$y(p)=p$\", ls=\"--\", color=\"k\")\n",
    "\n",
    "\n",
    "ax[2].annotate(\"p\", xy=(250, 10**(-3)), xytext=(50, 10**(-5.5)),\n",
    "               arrowprops=dict(arrowstyle=\"<|-\", facecolor=\"black\", lw=1.5),\n",
    "               bbox=dict(pad=-1, facecolor=\"none\", edgecolor=\"none\"))\n",
    "\n",
    "plt.show()\n"
   ]
  },
  {
   "cell_type": "code",
   "execution_count": 155,
   "metadata": {},
   "outputs": [],
   "source": [
    "plt.savefig(\"../../paper_figs/wave_function_decay.eps\")"
   ]
  },
  {
   "cell_type": "code",
   "execution_count": null,
   "metadata": {},
   "outputs": [],
   "source": []
  }
 ],
 "metadata": {
  "kernelspec": {
   "display_name": "numba",
   "language": "python",
   "name": "python3"
  },
  "language_info": {
   "codemirror_mode": {
    "name": "ipython",
    "version": 3
   },
   "file_extension": ".py",
   "mimetype": "text/x-python",
   "name": "python",
   "nbconvert_exporter": "python",
   "pygments_lexer": "ipython3",
   "version": "3.10.8"
  },
  "orig_nbformat": 4,
  "vscode": {
   "interpreter": {
    "hash": "94a2a463d41a97b46564929fd0d97a08bd8376d31a073bb610a2c3e7598cbb82"
   }
  }
 },
 "nbformat": 4,
 "nbformat_minor": 2
}
