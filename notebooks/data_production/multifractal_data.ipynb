{
 "cells": [
  {
   "cell_type": "code",
   "execution_count": 1,
   "metadata": {},
   "outputs": [],
   "source": [
    "import sys\n",
    "import os\n",
    "sys.path.insert(0, os.path.abspath(os.path.join('..', '..')))\n",
    "from src import *\n",
    "from itertools import product\n",
    "\n",
    "import numpy as np\n",
    "from matplotlib import pyplot as plt"
   ]
  },
  {
   "cell_type": "code",
   "execution_count": 2,
   "metadata": {},
   "outputs": [],
   "source": [
    "moments = np.array([-2, -1, 2, 3, 4])\n",
    "ps = np.array([0.85, 0.9, 0.95, 1.0, 1.05, 1.1, 1.15])\n",
    "system_sizes = np.array([100, 200, 400, 800, 1600, 3200, 6400])\n",
    "realizations = 10\n",
    "\n",
    "# push to larger sizes\n",
    "\n",
    "def produce_data(ps, system_sizes, moments, realizations, bins = 50):\n",
    "    widths = [L // bins for L in system_sizes]\n",
    "    fractal_dimension = np.zeros((len(ps), len(system_sizes), len(moments)))\n",
    "    params = product(enumerate(ps), enumerate(system_sizes), enumerate(moments))\n",
    "    for (i, p), (j, L), (k, m) in params:\n",
    "        dimension_data_reduced = 0\n",
    "        for _ in range(realizations):\n",
    "            ness_correlation = C_NESS(0, 0, A(L, p))\n",
    "            _, eigenvectors = np.linalg.eig(ness_correlation)\n",
    "            moment_data = calculate_moments(eigenvectors.T, widths[j], m)\n",
    "            dimension_data = generalized_fractal_dimension(moment_data, widths[j], m, L)\n",
    "            dimension_data_reduced += np.mean(list(dimension_data))\n",
    "        fractal_dimension[i,j,k] = dimension_data_reduced / realizations\n",
    "    return fractal_dimension\n",
    "\n",
    "data = produce_data(ps, system_sizes, moments, realizations)"
   ]
  },
  {
   "cell_type": "code",
   "execution_count": 3,
   "metadata": {},
   "outputs": [],
   "source": [
    "np.save(\"../../data/multifractal_data.npy\", data)"
   ]
  },
  {
   "cell_type": "code",
   "execution_count": null,
   "metadata": {},
   "outputs": [],
   "source": []
  }
 ],
 "metadata": {
  "kernelspec": {
   "display_name": "numba",
   "language": "python",
   "name": "python3"
  },
  "language_info": {
   "codemirror_mode": {
    "name": "ipython",
    "version": 3
   },
   "file_extension": ".py",
   "mimetype": "text/x-python",
   "name": "python",
   "nbconvert_exporter": "python",
   "pygments_lexer": "ipython3",
   "version": "3.10.8 | packaged by conda-forge | (main, Nov 24 2022, 14:07:00) [MSC v.1916 64 bit (AMD64)]"
  },
  "orig_nbformat": 4,
  "vscode": {
   "interpreter": {
    "hash": "c3ea23f975fe4e610a4ed32fc8f3f3cbfe2f222a882b375ad37ce039218ed78d"
   }
  }
 },
 "nbformat": 4,
 "nbformat_minor": 2
}
