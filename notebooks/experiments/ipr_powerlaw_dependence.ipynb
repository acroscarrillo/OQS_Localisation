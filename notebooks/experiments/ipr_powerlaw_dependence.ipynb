{
 "cells": [
  {
   "cell_type": "code",
   "execution_count": 1,
   "metadata": {},
   "outputs": [],
   "source": [
    "import sys\n",
    "import os\n",
    "sys.path.insert(0, os.path.abspath(os.path.join('..', '..')))\n",
    "from src import *\n",
    "from itertools import product\n",
    "\n",
    "import numpy as np\n",
    "from matplotlib import pyplot as plt\n",
    "import scipy.optimize as opt"
   ]
  },
  {
   "cell_type": "code",
   "execution_count": 2,
   "metadata": {},
   "outputs": [],
   "source": [
    "# this is an (Nx5) matrix where each row has the following structure\n",
    "# row 1: IPR_avg_1 | IPR_err_1 | L_1 | p_1 | lamb_1\n",
    "# row 2: IPR_avg_2 | IPR_err_2 | L_2 | p_2 | lamb_2\n",
    "# and so on...\n",
    "\n",
    "ipr_data = np.load(\"../../data/AVG_IPR_joined_data.npy\")   \n",
    "L = ipr_data[0,2] #value of L for the first row\n",
    "IPR = ipr_data[0,0] #value of IPR for the first row\n",
    "#and so on.."
   ]
  },
  {
   "cell_type": "code",
   "execution_count": 3,
   "metadata": {},
   "outputs": [],
   "source": [
    "data_ps = ipr_data[:,3]\n",
    "ps = np.unique(data_ps)\n",
    "data_curves_L = []\n",
    "data_curves_IPR = []\n",
    "for p in ps:\n",
    "    data_curves_L.append(ipr_data[np.isclose(data_ps, p), 2])\n",
    "    data_curves_IPR.append(ipr_data[np.isclose(data_ps, p), 0])"
   ]
  },
  {
   "cell_type": "code",
   "execution_count": 4,
   "metadata": {},
   "outputs": [],
   "source": [
    "f = lambda x, a, c2: c2*(x**a)\n",
    "powers = []\n",
    "gradients = []\n",
    "for (i, p) in enumerate(data_curves_L):\n",
    "    res = opt.curve_fit(\n",
    "        f, data_curves_L[i], 1/data_curves_IPR[i], bounds=([0, -np.inf], [np.inf, np.inf]))\n",
    "    powers.append(res[0][0])\n",
    "    gradients.append(res[0][1])"
   ]
  },
  {
   "cell_type": "code",
   "execution_count": 5,
   "metadata": {},
   "outputs": [
    {
     "data": {
      "text/plain": [
       "[<matplotlib.lines.Line2D at 0x1d4c8dfe800>]"
      ]
     },
     "execution_count": 5,
     "metadata": {},
     "output_type": "execute_result"
    }
   ],
   "source": [
    "%matplotlib qt\n",
    "\n",
    "plt.plot(ps, np.abs(gradients))\n",
    "plt.plot(ps, powers)"
   ]
  },
  {
   "cell_type": "code",
   "execution_count": null,
   "metadata": {},
   "outputs": [],
   "source": []
  }
 ],
 "metadata": {
  "kernelspec": {
   "display_name": "numba",
   "language": "python",
   "name": "python3"
  },
  "language_info": {
   "codemirror_mode": {
    "name": "ipython",
    "version": 3
   },
   "file_extension": ".py",
   "mimetype": "text/x-python",
   "name": "python",
   "nbconvert_exporter": "python",
   "pygments_lexer": "ipython3",
   "version": "3.10.8"
  },
  "orig_nbformat": 4,
  "vscode": {
   "interpreter": {
    "hash": "c3ea23f975fe4e610a4ed32fc8f3f3cbfe2f222a882b375ad37ce039218ed78d"
   }
  }
 },
 "nbformat": 4,
 "nbformat_minor": 2
}
